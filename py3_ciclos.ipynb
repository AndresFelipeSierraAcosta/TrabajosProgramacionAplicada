{
  "nbformat": 4,
  "nbformat_minor": 0,
  "metadata": {
    "colab": {
      "name": "py3-ciclos.ipynb",
      "provenance": [],
      "collapsed_sections": [],
      "include_colab_link": true
    },
    "kernelspec": {
      "name": "python3",
      "display_name": "Python 3"
    },
    "language_info": {
      "name": "python"
    }
  },
  "cells": [
    {
      "cell_type": "markdown",
      "metadata": {
        "id": "view-in-github",
        "colab_type": "text"
      },
      "source": [
        "<a href=\"https://colab.research.google.com/github/AndresFelipeSierraAcosta/TrabajosProgramacionAplicada/blob/main/py3_ciclos.ipynb\" target=\"_parent\"><img src=\"https://colab.research.google.com/assets/colab-badge.svg\" alt=\"Open In Colab\"/></a>"
      ]
    },
    {
      "cell_type": "code",
      "metadata": {
        "id": "Q-nZbUhCpIG-"
      },
      "source": [
        "def sumatoria_1(A,B,C):\n",
        "  n = len(A)\n",
        "  acomulador = 0\n",
        "  for i in range(n):\n",
        "    d = A[i]*B[i]\n",
        "    e = d + C[i]\n",
        "    f = e + i**2\n",
        "    acomulador = acomulador + f\n",
        "  resultado = acomulador\n",
        "  return resultado"
      ],
      "execution_count": null,
      "outputs": []
    },
    {
      "cell_type": "code",
      "metadata": {
        "colab": {
          "base_uri": "https://localhost:8080/"
        },
        "id": "OzfSqfQNHFQz",
        "outputId": "d5fdafa6-be36-43e8-d11f-c2c1e021028b"
      },
      "source": [
        "A=[1,2,3]\n",
        "B=[4,5,6]\n",
        "C=[7,8,9]\n",
        "sumatoria_1(A,B,C)"
      ],
      "execution_count": null,
      "outputs": [
        {
          "output_type": "execute_result",
          "data": {
            "text/plain": [
              "61"
            ]
          },
          "metadata": {},
          "execution_count": 17
        }
      ]
    },
    {
      "cell_type": "code",
      "metadata": {
        "colab": {
          "base_uri": "https://localhost:8080/"
        },
        "id": "LKcwTKFmHFpc",
        "outputId": "87ff3e07-441d-4b12-ddb1-9cc0cb395be4"
      },
      "source": [
        "(((1*4)+7)+(0**2)) + (((2*5)+8)+(1**2)) + (((3*6)+9)+(2**2))"
      ],
      "execution_count": null,
      "outputs": [
        {
          "output_type": "execute_result",
          "data": {
            "text/plain": [
              "61"
            ]
          },
          "metadata": {},
          "execution_count": 10
        }
      ]
    },
    {
      "cell_type": "code",
      "metadata": {
        "colab": {
          "base_uri": "https://localhost:8080/"
        },
        "id": "906P8CX7IJxl",
        "outputId": "5d4ad16c-e83c-4842-bd81-5e35465c4bf2"
      },
      "source": [
        "A=[5,10,15]\n",
        "B=[0,1,2]\n",
        "C=[2,4,6]\n",
        "sumatoria_1(A,B,C)"
      ],
      "execution_count": null,
      "outputs": [
        {
          "output_type": "execute_result",
          "data": {
            "text/plain": [
              "57"
            ]
          },
          "metadata": {},
          "execution_count": 18
        }
      ]
    },
    {
      "cell_type": "code",
      "metadata": {
        "colab": {
          "base_uri": "https://localhost:8080/"
        },
        "id": "MzVBaom3IKLX",
        "outputId": "e1e27c56-69f4-4b38-c082-26eddc3bdbc5"
      },
      "source": [
        "(((5*0)+2)+(0**2)) + (((10*1)+4)+(1**2)) + (((15*2)+6)+(2**2))"
      ],
      "execution_count": null,
      "outputs": [
        {
          "output_type": "execute_result",
          "data": {
            "text/plain": [
              "57"
            ]
          },
          "metadata": {},
          "execution_count": 19
        }
      ]
    },
    {
      "cell_type": "code",
      "metadata": {
        "colab": {
          "base_uri": "https://localhost:8080/"
        },
        "id": "p7j2q0nDIY-g",
        "outputId": "f8c9e9cc-bcc8-4c88-cc31-3858c5463e8a"
      },
      "source": [
        "A=[-10,20,-30]\n",
        "B=[0,1,-1]\n",
        "C=[140,0,-140]\n",
        "sumatoria_1(A,B,C)"
      ],
      "execution_count": null,
      "outputs": [
        {
          "output_type": "execute_result",
          "data": {
            "text/plain": [
              "55"
            ]
          },
          "metadata": {},
          "execution_count": 20
        }
      ]
    },
    {
      "cell_type": "code",
      "metadata": {
        "colab": {
          "base_uri": "https://localhost:8080/"
        },
        "id": "d2A883tLIZNo",
        "outputId": "bb34be24-0f41-47b5-c221-46f12797598b"
      },
      "source": [
        "(((-10*0)+140)+(0**2)) + (((20*1)+0)+(1**2)) + (((-30*-1)+-140)+(2**2))"
      ],
      "execution_count": null,
      "outputs": [
        {
          "output_type": "execute_result",
          "data": {
            "text/plain": [
              "55"
            ]
          },
          "metadata": {},
          "execution_count": 21
        }
      ]
    },
    {
      "cell_type": "code",
      "metadata": {
        "id": "gUwYL5PtMlcj"
      },
      "source": [
        "def llenado_de_lista(A,B):\n",
        "  n = len(A)//2\n",
        "  C=[]\n",
        "  for i in range(n):\n",
        "    d = (A[i+1]**2)*B[2*i]\n",
        "    e = d + B[n+1]\n",
        "    C.append(e)\n",
        "  return C"
      ],
      "execution_count": null,
      "outputs": []
    },
    {
      "cell_type": "code",
      "metadata": {
        "colab": {
          "base_uri": "https://localhost:8080/"
        },
        "id": "1K3dAnmuQnFE",
        "outputId": "fd760eba-0eb3-4e58-9587-31f7c3be14ad"
      },
      "source": [
        "A=[1,2,3,4]\n",
        "B=[5,6,7,8]\n",
        "llenado_de_lista(A,B)"
      ],
      "execution_count": null,
      "outputs": [
        {
          "output_type": "execute_result",
          "data": {
            "text/plain": [
              "[28, 71]"
            ]
          },
          "metadata": {},
          "execution_count": 32
        }
      ]
    },
    {
      "cell_type": "code",
      "metadata": {
        "colab": {
          "base_uri": "https://localhost:8080/"
        },
        "id": "Hxh9YJi5S7CG",
        "outputId": "a8a961da-918c-4efb-a07c-79350839974c"
      },
      "source": [
        "A=[-1,-2,-3,-4]\n",
        "B=[-5,-6,-7,-8]\n",
        "llenado_de_lista(A,B)"
      ],
      "execution_count": null,
      "outputs": [
        {
          "output_type": "execute_result",
          "data": {
            "text/plain": [
              "[-28, -71]"
            ]
          },
          "metadata": {},
          "execution_count": 35
        }
      ]
    },
    {
      "cell_type": "code",
      "metadata": {
        "colab": {
          "base_uri": "https://localhost:8080/"
        },
        "id": "Lpff4lQFS6t0",
        "outputId": "a2474fb7-7067-47a0-b7dc-7fbb0151ab31"
      },
      "source": [
        "A=[7,54,7,22,34,74]\n",
        "B=[50,60,70,80,90,100]\n",
        "llenado_de_lista(A,B)"
      ],
      "execution_count": null,
      "outputs": [
        {
          "output_type": "execute_result",
          "data": {
            "text/plain": [
              "[145890, 3520, 43650]"
            ]
          },
          "metadata": {},
          "execution_count": 36
        }
      ]
    }
  ]
}